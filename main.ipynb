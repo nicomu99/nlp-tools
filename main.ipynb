{
 "cells": [
  {
   "metadata": {},
   "cell_type": "markdown",
   "source": "# Imports",
   "id": "2843a1661303ae34"
  },
  {
   "metadata": {
    "ExecuteTime": {
     "end_time": "2025-05-14T19:38:30.028682Z",
     "start_time": "2025-05-14T19:38:30.016716Z"
    }
   },
   "cell_type": "code",
   "source": [
    "%load_ext autoreload\n",
    "%autoreload 2"
   ],
   "id": "a296a4c4b6a85217",
   "outputs": [
    {
     "name": "stdout",
     "output_type": "stream",
     "text": [
      "The autoreload extension is already loaded. To reload it, use:\n",
      "  %reload_ext autoreload\n"
     ]
    }
   ],
   "execution_count": 3
  },
  {
   "metadata": {
    "ExecuteTime": {
     "end_time": "2025-05-14T20:04:15.312446Z",
     "start_time": "2025-05-14T20:04:15.294972Z"
    }
   },
   "cell_type": "code",
   "source": [
    "from datasets import load_dataset\n",
    "import matplotlib.pyplot as plt\n",
    "from tqdm import tqdm\n",
    "\n",
    "import torch\n",
    "import torch.nn as nn\n",
    "from torch.utils.data import Dataset, DataLoader\n",
    "import torch.nn.functional as F\n",
    "\n",
    "from tokenization.word_tokenizer import WordTokenizer\n",
    "from data_utils.data_utils import *"
   ],
   "id": "773b219173bf279e",
   "outputs": [],
   "execution_count": 44
  },
  {
   "metadata": {
    "ExecuteTime": {
     "end_time": "2025-05-14T20:06:46.444400Z",
     "start_time": "2025-05-14T20:06:46.415261Z"
    }
   },
   "cell_type": "code",
   "source": [
    "MAX_VOCAB_SIZE = 10_000\n",
    "MAX_LEN = 256\n",
    "SEED = 42\n",
    "EPOCHS = 5"
   ],
   "id": "f20212780d0cda07",
   "outputs": [],
   "execution_count": 60
  },
  {
   "metadata": {},
   "cell_type": "markdown",
   "source": "# Prepocess Data",
   "id": "e5bd69bba592605f"
  },
  {
   "metadata": {},
   "cell_type": "markdown",
   "source": "## Load Data",
   "id": "2b9fbe65c02917c8"
  },
  {
   "metadata": {
    "ExecuteTime": {
     "end_time": "2025-05-14T20:04:27.945058Z",
     "start_time": "2025-05-14T20:04:16.041592Z"
    }
   },
   "cell_type": "code",
   "source": [
    "train_data = load_dataset('stanfordnlp/imdb', split=\"train[:80%]\")\n",
    "val_data = load_dataset('imdb', split=\"train[80%:]\")\n",
    "test_data = load_dataset('imdb', split=\"test\")"
   ],
   "id": "6edaa715945280d2",
   "outputs": [],
   "execution_count": 46
  },
  {
   "metadata": {},
   "cell_type": "markdown",
   "source": "## Tokenize Data",
   "id": "4c4bbf2651f7d642"
  },
  {
   "metadata": {
    "ExecuteTime": {
     "end_time": "2025-05-14T20:04:31.193495Z",
     "start_time": "2025-05-14T20:04:28.881729Z"
    }
   },
   "cell_type": "code",
   "source": [
    "tokenizer = WordTokenizer(train_data['text'], MAX_VOCAB_SIZE, MAX_LEN)\n",
    "train_tokens = tokenizer(train_data['text'])\n",
    "val_tokens = tokenizer(val_data['text'])\n",
    "test_tokens = tokenizer(test_data['text'])"
   ],
   "id": "9c81858eb38c6955",
   "outputs": [],
   "execution_count": 48
  },
  {
   "metadata": {},
   "cell_type": "markdown",
   "source": "## Pad Data",
   "id": "c5685d2a7752995c"
  },
  {
   "metadata": {
    "ExecuteTime": {
     "end_time": "2025-05-14T20:04:31.320665Z",
     "start_time": "2025-05-14T20:04:31.201406Z"
    }
   },
   "cell_type": "code",
   "source": [
    "pad_token = tokenizer.get_pad_token()\n",
    "train_padded = pad_sequences(train_tokens, pad_token, MAX_LEN)\n",
    "val_padded = pad_sequences(val_tokens, pad_token, MAX_LEN)\n",
    "test_padded = pad_sequences(test_tokens, pad_token, MAX_LEN)"
   ],
   "id": "58e0beed840f8a5d",
   "outputs": [],
   "execution_count": 49
  },
  {
   "metadata": {},
   "cell_type": "markdown",
   "source": "## Create Datasets",
   "id": "efd7c642d274c6ac"
  },
  {
   "metadata": {
    "ExecuteTime": {
     "end_time": "2025-05-14T20:04:31.353711Z",
     "start_time": "2025-05-14T20:04:31.338013Z"
    }
   },
   "cell_type": "code",
   "source": [
    "class IMDBDataset(Dataset):\n",
    "    def __init__(self, text, lbls):\n",
    "        self.text = text\n",
    "        self.lbls = lbls\n",
    "\n",
    "    def __len__(self):\n",
    "        return len(self.lbls)\n",
    "\n",
    "    def __getitem__(self, index):\n",
    "        return torch.tensor(self.text[index]), torch.tensor(self.lbls[index])"
   ],
   "id": "56b070a7adab9191",
   "outputs": [],
   "execution_count": 50
  },
  {
   "metadata": {
    "ExecuteTime": {
     "end_time": "2025-05-14T20:05:07.364571Z",
     "start_time": "2025-05-14T20:05:07.327747Z"
    }
   },
   "cell_type": "code",
   "source": [
    "train_set = IMDBDataset(train_padded, train_data['label'])\n",
    "val_set = IMDBDataset(val_padded, val_data['label'])\n",
    "test_set = IMDBDataset(test_padded, test_data['label'])"
   ],
   "id": "2701f0358424dd3",
   "outputs": [],
   "execution_count": 51
  },
  {
   "metadata": {},
   "cell_type": "markdown",
   "source": [
    "# Create Group Sampler\n",
    "\n",
    "The group sampler returns data sorted by the length. TODO"
   ],
   "id": "aea46f38eb1e2794"
  },
  {
   "metadata": {
    "ExecuteTime": {
     "end_time": "2025-05-14T20:05:10.907370Z",
     "start_time": "2025-05-14T20:05:10.883743Z"
    }
   },
   "cell_type": "code",
   "source": [
    "train_loader = DataLoader(train_set, batch_size=32, shuffle=True)\n",
    "val_loader = DataLoader(val_set, batch_size=32, shuffle=True)\n",
    "test_loader = DataLoader(test_set, batch_size=32, shuffle=True)"
   ],
   "id": "5b51d30088ac28e5",
   "outputs": [],
   "execution_count": 52
  },
  {
   "metadata": {},
   "cell_type": "markdown",
   "source": [
    "# Collate function\n",
    "\n",
    "TODO"
   ],
   "id": "b2fa47f990a2f4cf"
  },
  {
   "metadata": {},
   "cell_type": "code",
   "outputs": [],
   "execution_count": null,
   "source": "",
   "id": "6a598deec175a637"
  },
  {
   "metadata": {},
   "cell_type": "markdown",
   "source": "# Build Model",
   "id": "698542951715336b"
  },
  {
   "metadata": {
    "ExecuteTime": {
     "end_time": "2025-05-14T20:05:44.061572Z",
     "start_time": "2025-05-14T20:05:44.034972Z"
    }
   },
   "cell_type": "code",
   "source": [
    "class RNN(nn.Module):\n",
    "    def __init__(self, vocab_size: int, embedding_dim: int, hidden_dim: int, dropout: float):\n",
    "        super(RNN, self).__init__()\n",
    "        self.embedding = nn.Embedding(vocab_size, embedding_dim, padding_idx=0)\n",
    "        self.lstm = nn.LSTM(embedding_dim, hidden_dim, batch_first=True, bidirectional=True)\n",
    "        self.linear1 = nn.Linear(2 * hidden_dim, hidden_dim)\n",
    "        self.linear2 = nn.Linear(hidden_dim, 1)\n",
    "        self.dropout = nn.Dropout(dropout)\n",
    "\n",
    "    def forward(self, x):\n",
    "        x = self.dropout(self.embedding(x))\n",
    "        x, (_, _) = self.lstm(x)\n",
    "        x = torch.mean(x, dim=1)\n",
    "        x = F.relu(self.linear1(x))\n",
    "        x = self.linear2(x)\n",
    "        return torch.sigmoid(x).squeeze(1)"
   ],
   "id": "a19cd02b1430652",
   "outputs": [],
   "execution_count": 53
  },
  {
   "metadata": {
    "ExecuteTime": {
     "end_time": "2025-05-14T20:05:55.297102Z",
     "start_time": "2025-05-14T20:05:55.240151Z"
    }
   },
   "cell_type": "code",
   "source": "model = RNN(vocab_size=MAX_VOCAB_SIZE, embedding_dim=MAX_LEN, hidden_dim=256, dropout=0.5)",
   "id": "304734b8a37ed8c4",
   "outputs": [],
   "execution_count": 55
  },
  {
   "metadata": {},
   "cell_type": "markdown",
   "source": "# Training Loop",
   "id": "34a4959b5c1217e0"
  },
  {
   "metadata": {
    "ExecuteTime": {
     "end_time": "2025-05-14T20:05:47.158454Z",
     "start_time": "2025-05-14T20:05:47.126536Z"
    }
   },
   "cell_type": "code",
   "source": [
    "def process_epoch(model: torch.nn.Module, loader: torch.utils.data.DataLoader, crit: torch.nn.Module,\n",
    "                 device: torch.device, optimizer: torch.optim.Optimizer = None):\n",
    "    \"\"\"\n",
    "    Processes one training or validation step for a given model.\n",
    "    :param model: The neural network model.\n",
    "    :param loader: The data loader providing batches of input sequences and labels.\n",
    "    :param crit: The loss function used to compute the loss.\n",
    "    :param device: The device on which computations will be performed (e.g., 'cuda' or 'cpu').\n",
    "    :param optimizer: The optimizer used for training. If None, the function runs in evaluation mode.\n",
    "    :return: tuple: (avg_epoch_loss, accuracy)\n",
    "            - avg_epoch_loss (float): The average loss over all batches in the epoch.\n",
    "            - accuracy (float): The classification accuracy over all samples.\n",
    "    \"\"\"\n",
    "    train = optimizer is not None\n",
    "    if train:\n",
    "        model.train()\n",
    "    else:\n",
    "        model.eval()\n",
    "\n",
    "    avg_epoch_loss = 0.0\n",
    "    correct_preds = 0\n",
    "    total_preds = 0\n",
    "    for seqs, labels in tqdm(loader, desc=\"Training\" if train else \"Validation\"):\n",
    "        seqs, labels = seqs.to(device), labels.float().to(device)\n",
    "\n",
    "        if train:\n",
    "            # Clear gradients from last step\n",
    "            optimizer.zero_grad()\n",
    "        with torch.set_grad_enabled(train):\n",
    "            # Get new predictions for one input batch\n",
    "            pred = model(seqs)\n",
    "            # Calculate the difference between the true labels and the predicted ones using the loss function\n",
    "            loss = crit(pred, labels)\n",
    "\n",
    "            if train:\n",
    "                # Compute gradients via backpropagation\n",
    "                loss.backward()\n",
    "                # Update the model parameters\n",
    "                optimizer.step()\n",
    "\n",
    "        avg_epoch_loss += loss.item()\n",
    "        correct_preds += (pred >= 0.5).eq(labels).sum().item()\n",
    "        total_preds += labels.size(0)\n",
    "\n",
    "    avg_epoch_loss /= len(loader)\n",
    "    accuracy = correct_preds / total_preds\n",
    "\n",
    "    return avg_epoch_loss, accuracy"
   ],
   "id": "5704b92626bde9a2",
   "outputs": [],
   "execution_count": 54
  },
  {
   "metadata": {},
   "cell_type": "markdown",
   "source": "# Train Model",
   "id": "43a7afe1fb4f19b4"
  },
  {
   "metadata": {
    "ExecuteTime": {
     "end_time": "2025-05-14T20:06:06.361219Z",
     "start_time": "2025-05-14T20:06:06.216733Z"
    }
   },
   "cell_type": "code",
   "source": [
    "# Use GPU for faster training\n",
    "device = torch.device('cuda' if torch.cuda.is_available() else 'cpu')"
   ],
   "id": "9b5e2db11616b1d",
   "outputs": [],
   "execution_count": 56
  },
  {
   "metadata": {
    "ExecuteTime": {
     "end_time": "2025-05-14T20:06:19.024154Z",
     "start_time": "2025-05-14T20:06:17.906601Z"
    }
   },
   "cell_type": "code",
   "source": [
    "criterion = nn.BCELoss()\n",
    "optimizer = torch.optim.Adam(model.parameters())"
   ],
   "id": "1a88b2bb40938712",
   "outputs": [],
   "execution_count": 57
  },
  {
   "metadata": {
    "ExecuteTime": {
     "end_time": "2025-05-14T20:06:25.450410Z",
     "start_time": "2025-05-14T20:06:25.197624Z"
    }
   },
   "cell_type": "code",
   "source": "model.to(device)",
   "id": "e95fbb0517d41a02",
   "outputs": [
    {
     "data": {
      "text/plain": [
       "RNN(\n",
       "  (embedding): Embedding(10000, 256, padding_idx=0)\n",
       "  (lstm): LSTM(256, 256, batch_first=True, bidirectional=True)\n",
       "  (linear1): Linear(in_features=512, out_features=256, bias=True)\n",
       "  (linear2): Linear(in_features=256, out_features=1, bias=True)\n",
       "  (dropout): Dropout(p=0.2, inplace=False)\n",
       ")"
      ]
     },
     "execution_count": 58,
     "metadata": {},
     "output_type": "execute_result"
    }
   ],
   "execution_count": 58
  },
  {
   "metadata": {
    "ExecuteTime": {
     "end_time": "2025-05-14T20:10:38.937743Z",
     "start_time": "2025-05-14T20:07:01.363265Z"
    }
   },
   "cell_type": "code",
   "source": [
    "metrics = {\n",
    "    'train_loss': [],\n",
    "    'train_acc': [],\n",
    "    'val_loss': [],\n",
    "    'val_acc': [],\n",
    "    'epoch': []\n",
    "}\n",
    "for epoch in range(EPOCHS):\n",
    "    # Train\n",
    "    train_loss, train_acc = process_epoch(model, train_loader, criterion, device, optimizer)\n",
    "\n",
    "    # Evaluate\n",
    "    with torch.no_grad():\n",
    "        val_loss, val_acc = process_epoch(model, val_loader, criterion, device)\n",
    "\n",
    "    metrics['train_loss'].append(train_loss)\n",
    "    metrics['train_acc'].append(train_acc)\n",
    "    metrics['val_loss'].append(val_loss)\n",
    "    metrics['val_acc'].append(val_acc)\n",
    "    metrics['epoch'].append(epoch)"
   ],
   "id": "1364e7a3ba93e857",
   "outputs": [
    {
     "name": "stderr",
     "output_type": "stream",
     "text": [
      "Training: 100%|██████████| 625/625 [00:34<00:00, 18.02it/s]\n",
      "Validation: 100%|██████████| 157/157 [00:03<00:00, 48.49it/s]\n",
      "Training: 100%|██████████| 625/625 [00:35<00:00, 17.59it/s]\n",
      "Validation: 100%|██████████| 157/157 [00:03<00:00, 47.05it/s]\n",
      "Training: 100%|██████████| 625/625 [00:39<00:00, 15.94it/s]\n",
      "Validation: 100%|██████████| 157/157 [00:04<00:00, 36.76it/s]\n",
      "Training: 100%|██████████| 625/625 [00:44<00:00, 14.02it/s]\n",
      "Validation: 100%|██████████| 157/157 [00:04<00:00, 36.69it/s]\n",
      "Training: 100%|██████████| 625/625 [00:44<00:00, 14.15it/s]\n",
      "Validation: 100%|██████████| 157/157 [00:04<00:00, 37.13it/s]\n"
     ]
    }
   ],
   "execution_count": 61
  },
  {
   "metadata": {},
   "cell_type": "markdown",
   "source": "# Test and Plot Results",
   "id": "f45fb93b8b1e933e"
  },
  {
   "metadata": {
    "ExecuteTime": {
     "end_time": "2025-05-14T20:10:50.014363Z",
     "start_time": "2025-05-14T20:10:49.627145Z"
    }
   },
   "cell_type": "code",
   "source": [
    "fig, ax = plt.subplots(1, 2)\n",
    "\n",
    "ax[0].plot(metrics['epoch'], metrics['train_loss'], label='Train')\n",
    "ax[0].plot(metrics['epoch'], metrics['val_loss'], '--', label='Val')\n",
    "\n",
    "ax[1].plot(metrics['epoch'], metrics['train_acc'], label='Train')\n",
    "ax[1].plot(metrics['epoch'], metrics['val_acc'], '--', label='Val')\n",
    "\n",
    "ax[0].legend()\n",
    "ax[1].legend()"
   ],
   "id": "b9c4f76d19701dd8",
   "outputs": [
    {
     "data": {
      "text/plain": [
       "<matplotlib.legend.Legend at 0x7a42ba9d0710>"
      ]
     },
     "execution_count": 62,
     "metadata": {},
     "output_type": "execute_result"
    },
    {
     "data": {
      "text/plain": [
       "<Figure size 640x480 with 2 Axes>"
      ],
      "image/png": "[encoded data removed]"
     },
     "metadata": {},
     "output_type": "display_data"
    }
   ],
   "execution_count": 62
  },
  {
   "metadata": {},
   "cell_type": "code",
   "outputs": [],
   "execution_count": null,
   "source": "",
   "id": "abaf1d04f5fc70ed"
  }
 ],
 "metadata": {
  "kernelspec": {
   "display_name": "Python 3",
   "language": "python",
   "name": "python3"
  },
  "language_info": {
   "codemirror_mode": {
    "name": "ipython",
    "version": 2
   },
   "file_extension": ".py",
   "mimetype": "text/x-python",
   "name": "python",
   "nbconvert_exporter": "python",
   "pygments_lexer": "ipython2",
   "version": "2.7.6"
  }
 },
 "nbformat": 4,
 "nbformat_minor": 5
}
